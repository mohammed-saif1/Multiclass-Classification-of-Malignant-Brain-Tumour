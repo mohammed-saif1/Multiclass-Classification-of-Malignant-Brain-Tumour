{
 "cells": [
  {
   "cell_type": "code",
   "execution_count": 14,
   "metadata": {},
   "outputs": [],
   "source": [
    "import tensorflow as tf\n",
    "import keras\n",
    "from keras.models import Sequential\n",
    "from keras.layers import Conv2D\n",
    "from keras.layers import MaxPooling2D\n",
    "from keras.layers import Flatten\n",
    "from keras.layers import Dense"
   ]
  },
  {
   "cell_type": "code",
   "execution_count": 15,
   "metadata": {},
   "outputs": [],
   "source": [
    "classifier = Sequential()\n",
    "\n",
    "classifier.add(Conv2D(32, (3, 3), input_shape = (64, 64, 3), activation = 'relu'))"
   ]
  },
  {
   "cell_type": "code",
   "execution_count": 16,
   "metadata": {},
   "outputs": [
    {
     "name": "stdout",
     "output_type": "stream",
     "text": [
      "Model: \"sequential_1\"\n",
      "_________________________________________________________________\n",
      " Layer (type)                Output Shape              Param #   \n",
      "=================================================================\n",
      " conv2d_2 (Conv2D)           (None, 62, 62, 32)        896       \n",
      "                                                                 \n",
      " max_pooling2d_2 (MaxPooling  (None, 31, 31, 32)       0         \n",
      " 2D)                                                             \n",
      "                                                                 \n",
      " conv2d_3 (Conv2D)           (None, 29, 29, 32)        9248      \n",
      "                                                                 \n",
      " max_pooling2d_3 (MaxPooling  (None, 14, 14, 32)       0         \n",
      " 2D)                                                             \n",
      "                                                                 \n",
      " flatten_1 (Flatten)         (None, 6272)              0         \n",
      "                                                                 \n",
      " dense_2 (Dense)             (None, 128)               802944    \n",
      "                                                                 \n",
      " dense_3 (Dense)             (None, 1)                 129       \n",
      "                                                                 \n",
      "=================================================================\n",
      "Total params: 813,217\n",
      "Trainable params: 813,217\n",
      "Non-trainable params: 0\n",
      "_________________________________________________________________\n"
     ]
    }
   ],
   "source": [
    "classifier.add(MaxPooling2D(pool_size = (2, 2)))\n",
    "\n",
    "classifier.add(Conv2D(32, (3, 3), activation = 'relu'))\n",
    "classifier.add(MaxPooling2D(pool_size = (2, 2)))\n",
    "\n",
    "classifier.add(Flatten())\n",
    "\n",
    "classifier.add(Dense(activation = 'relu',units=128))\n",
    "classifier.add(Dense(activation = 'sigmoid',units=1))\n",
    "\n",
    "classifier.compile(optimizer = 'adam', loss = 'binary_crossentropy', metrics = ['accuracy'])\n",
    "\n",
    "classifier.summary()"
   ]
  },
  {
   "cell_type": "code",
   "execution_count": 17,
   "metadata": {},
   "outputs": [],
   "source": [
    "from keras.preprocessing.image import ImageDataGenerator\n",
    "\n",
    "train_datagen = ImageDataGenerator(rescale = 1./255,\n",
    "                                   shear_range = 0.2,\n",
    "                                   zoom_range = 0.2,\n",
    "                                   horizontal_flip = True)\n",
    "\n",
    "test_datagen = ImageDataGenerator(rescale = 1./255)\n"
   ]
  },
  {
   "cell_type": "code",
   "execution_count": 18,
   "metadata": {},
   "outputs": [
    {
     "name": "stdout",
     "output_type": "stream",
     "text": [
      "C:\\PROJECT\\code\\Brain_tumor\n"
     ]
    }
   ],
   "source": [
    "import os \n",
    "os.getcwd()\n",
    "os.chdir('C:/PROJECT/code/Brain_tumor')\n",
    "print(os.getcwd())"
   ]
  },
  {
   "cell_type": "code",
   "execution_count": 19,
   "metadata": {},
   "outputs": [
    {
     "name": "stdout",
     "output_type": "stream",
     "text": [
      "Found 22 images belonging to 2 classes.\n",
      "Found 7 images belonging to 2 classes.\n"
     ]
    }
   ],
   "source": [
    "training_set = train_datagen.flow_from_directory('C:/PROJECT/code/Brain_tumor/train/',\n",
    "                                                 target_size = (64, 64),\n",
    "                                                 batch_size = 32,\n",
    "                                                 class_mode = 'binary')\n",
    "\n",
    "test_set = test_datagen.flow_from_directory('C:\\PROJECT/code/Brain_tumor/test/',\n",
    "                                            target_size = (64, 64),\n",
    "                                            batch_size = 32,\n",
    "                                            class_mode = 'binary')\n"
   ]
  },
  {
   "cell_type": "code",
   "execution_count": 28,
   "metadata": {},
   "outputs": [
    {
     "name": "stdout",
     "output_type": "stream",
     "text": [
      "Epoch 1/100\n"
     ]
    },
    {
     "name": "stderr",
     "output_type": "stream",
     "text": [
      "C:\\Users\\chidu\\AppData\\Local\\Temp\\ipykernel_16316\\2018510864.py:1: UserWarning: `Model.fit_generator` is deprecated and will be removed in a future version. Please use `Model.fit`, which supports generators.\n",
      "  classifier.fit_generator(training_set, steps_per_epoch=None, epochs=100, verbose=1, callbacks=None, validation_data=test_set, validation_steps=None, class_weight=None, max_queue_size=10, workers=1, use_multiprocessing=False, shuffle=True, initial_epoch=0)\n"
     ]
    },
    {
     "name": "stdout",
     "output_type": "stream",
     "text": [
      "1/1 [==============================] - 0s 247ms/step - loss: 0.0714 - accuracy: 0.9545 - val_loss: 2.4404 - val_accuracy: 0.4286\n",
      "Epoch 2/100\n",
      "1/1 [==============================] - 0s 172ms/step - loss: 0.1202 - accuracy: 0.9545 - val_loss: 2.2799 - val_accuracy: 0.4286\n",
      "Epoch 3/100\n",
      "1/1 [==============================] - 0s 153ms/step - loss: 0.0268 - accuracy: 1.0000 - val_loss: 2.1478 - val_accuracy: 0.5714\n",
      "Epoch 4/100\n",
      "1/1 [==============================] - 0s 192ms/step - loss: 0.0690 - accuracy: 0.9545 - val_loss: 2.0195 - val_accuracy: 0.7143\n",
      "Epoch 5/100\n",
      "1/1 [==============================] - 0s 172ms/step - loss: 0.1043 - accuracy: 0.9545 - val_loss: 1.9793 - val_accuracy: 0.7143\n",
      "Epoch 6/100\n",
      "1/1 [==============================] - 0s 180ms/step - loss: 0.0289 - accuracy: 1.0000 - val_loss: 1.9750 - val_accuracy: 0.7143\n",
      "Epoch 7/100\n",
      "1/1 [==============================] - 0s 146ms/step - loss: 0.0541 - accuracy: 0.9545 - val_loss: 2.0581 - val_accuracy: 0.5714\n",
      "Epoch 8/100\n",
      "1/1 [==============================] - 0s 177ms/step - loss: 0.0598 - accuracy: 0.9545 - val_loss: 2.2680 - val_accuracy: 0.5714\n",
      "Epoch 9/100\n",
      "1/1 [==============================] - 0s 185ms/step - loss: 0.0346 - accuracy: 1.0000 - val_loss: 2.4486 - val_accuracy: 0.4286\n",
      "Epoch 10/100\n",
      "1/1 [==============================] - 0s 190ms/step - loss: 0.0940 - accuracy: 0.9545 - val_loss: 2.5190 - val_accuracy: 0.4286\n",
      "Epoch 11/100\n",
      "1/1 [==============================] - 0s 189ms/step - loss: 0.0345 - accuracy: 1.0000 - val_loss: 2.5490 - val_accuracy: 0.5714\n",
      "Epoch 12/100\n",
      "1/1 [==============================] - 0s 164ms/step - loss: 0.1058 - accuracy: 0.9545 - val_loss: 2.3845 - val_accuracy: 0.5714\n",
      "Epoch 13/100\n",
      "1/1 [==============================] - 0s 153ms/step - loss: 0.1276 - accuracy: 0.9091 - val_loss: 2.3382 - val_accuracy: 0.5714\n",
      "Epoch 14/100\n",
      "1/1 [==============================] - 0s 152ms/step - loss: 0.0474 - accuracy: 0.9545 - val_loss: 2.1882 - val_accuracy: 0.5714\n",
      "Epoch 15/100\n",
      "1/1 [==============================] - 0s 170ms/step - loss: 0.0748 - accuracy: 1.0000 - val_loss: 2.1046 - val_accuracy: 0.5714\n",
      "Epoch 16/100\n",
      "1/1 [==============================] - 0s 165ms/step - loss: 0.0887 - accuracy: 0.9545 - val_loss: 2.0931 - val_accuracy: 0.5714\n",
      "Epoch 17/100\n",
      "1/1 [==============================] - 0s 210ms/step - loss: 0.0252 - accuracy: 1.0000 - val_loss: 2.1464 - val_accuracy: 0.5714\n",
      "Epoch 18/100\n",
      "1/1 [==============================] - 0s 156ms/step - loss: 0.0584 - accuracy: 0.9545 - val_loss: 2.3405 - val_accuracy: 0.5714\n",
      "Epoch 19/100\n",
      "1/1 [==============================] - 0s 173ms/step - loss: 0.0251 - accuracy: 1.0000 - val_loss: 2.5067 - val_accuracy: 0.5714\n",
      "Epoch 20/100\n",
      "1/1 [==============================] - 0s 205ms/step - loss: 0.1036 - accuracy: 0.9545 - val_loss: 2.5268 - val_accuracy: 0.4286\n",
      "Epoch 21/100\n",
      "1/1 [==============================] - 0s 184ms/step - loss: 0.1170 - accuracy: 0.9545 - val_loss: 2.3483 - val_accuracy: 0.5714\n",
      "Epoch 22/100\n",
      "1/1 [==============================] - 0s 166ms/step - loss: 0.0318 - accuracy: 1.0000 - val_loss: 2.2114 - val_accuracy: 0.5714\n",
      "Epoch 23/100\n",
      "1/1 [==============================] - 0s 160ms/step - loss: 0.0335 - accuracy: 1.0000 - val_loss: 2.0848 - val_accuracy: 0.5714\n",
      "Epoch 24/100\n",
      "1/1 [==============================] - 0s 152ms/step - loss: 0.0603 - accuracy: 0.9545 - val_loss: 2.1271 - val_accuracy: 0.5714\n",
      "Epoch 25/100\n",
      "1/1 [==============================] - 0s 160ms/step - loss: 0.1011 - accuracy: 0.9545 - val_loss: 2.3403 - val_accuracy: 0.5714\n",
      "Epoch 26/100\n",
      "1/1 [==============================] - 0s 164ms/step - loss: 0.0296 - accuracy: 1.0000 - val_loss: 2.6146 - val_accuracy: 0.4286\n",
      "Epoch 27/100\n",
      "1/1 [==============================] - 0s 160ms/step - loss: 0.0255 - accuracy: 1.0000 - val_loss: 2.8484 - val_accuracy: 0.4286\n",
      "Epoch 28/100\n",
      "1/1 [==============================] - 0s 164ms/step - loss: 0.0696 - accuracy: 0.9545 - val_loss: 2.9682 - val_accuracy: 0.4286\n",
      "Epoch 29/100\n",
      "1/1 [==============================] - 0s 153ms/step - loss: 0.0671 - accuracy: 0.9545 - val_loss: 2.9212 - val_accuracy: 0.4286\n",
      "Epoch 30/100\n",
      "1/1 [==============================] - 0s 167ms/step - loss: 0.0483 - accuracy: 0.9545 - val_loss: 2.7462 - val_accuracy: 0.4286\n",
      "Epoch 31/100\n",
      "1/1 [==============================] - 0s 158ms/step - loss: 0.0882 - accuracy: 0.9545 - val_loss: 2.4422 - val_accuracy: 0.5714\n",
      "Epoch 32/100\n",
      "1/1 [==============================] - 0s 188ms/step - loss: 0.0495 - accuracy: 0.9545 - val_loss: 2.2374 - val_accuracy: 0.7143\n",
      "Epoch 33/100\n",
      "1/1 [==============================] - 0s 170ms/step - loss: 0.1314 - accuracy: 0.9545 - val_loss: 2.2013 - val_accuracy: 0.7143\n",
      "Epoch 34/100\n",
      "1/1 [==============================] - 0s 180ms/step - loss: 0.1643 - accuracy: 0.9545 - val_loss: 2.3307 - val_accuracy: 0.5714\n",
      "Epoch 35/100\n",
      "1/1 [==============================] - 0s 169ms/step - loss: 0.0418 - accuracy: 1.0000 - val_loss: 2.7652 - val_accuracy: 0.4286\n",
      "Epoch 36/100\n",
      "1/1 [==============================] - 0s 179ms/step - loss: 0.1703 - accuracy: 0.9545 - val_loss: 3.4522 - val_accuracy: 0.4286\n",
      "Epoch 37/100\n",
      "1/1 [==============================] - 0s 171ms/step - loss: 0.1659 - accuracy: 0.9545 - val_loss: 3.6007 - val_accuracy: 0.4286\n",
      "Epoch 38/100\n",
      "1/1 [==============================] - 0s 161ms/step - loss: 0.3832 - accuracy: 0.9091 - val_loss: 3.1636 - val_accuracy: 0.4286\n",
      "Epoch 39/100\n",
      "1/1 [==============================] - 0s 163ms/step - loss: 0.1637 - accuracy: 0.9545 - val_loss: 2.3996 - val_accuracy: 0.4286\n",
      "Epoch 40/100\n",
      "1/1 [==============================] - 0s 155ms/step - loss: 0.0195 - accuracy: 1.0000 - val_loss: 1.8800 - val_accuracy: 0.7143\n",
      "Epoch 41/100\n",
      "1/1 [==============================] - 0s 149ms/step - loss: 0.0837 - accuracy: 0.9545 - val_loss: 1.7469 - val_accuracy: 0.7143\n",
      "Epoch 42/100\n",
      "1/1 [==============================] - 0s 173ms/step - loss: 0.0366 - accuracy: 1.0000 - val_loss: 1.6964 - val_accuracy: 0.7143\n",
      "Epoch 43/100\n",
      "1/1 [==============================] - 0s 166ms/step - loss: 0.0764 - accuracy: 0.9545 - val_loss: 1.6524 - val_accuracy: 0.8571\n",
      "Epoch 44/100\n",
      "1/1 [==============================] - 0s 189ms/step - loss: 0.1696 - accuracy: 0.9545 - val_loss: 1.6340 - val_accuracy: 0.5714\n",
      "Epoch 45/100\n",
      "1/1 [==============================] - 0s 209ms/step - loss: 0.0986 - accuracy: 0.9545 - val_loss: 1.6125 - val_accuracy: 0.5714\n",
      "Epoch 46/100\n",
      "1/1 [==============================] - 0s 143ms/step - loss: 0.2176 - accuracy: 0.9091 - val_loss: 1.6436 - val_accuracy: 0.5714\n",
      "Epoch 47/100\n",
      "1/1 [==============================] - 0s 152ms/step - loss: 0.0735 - accuracy: 0.9545 - val_loss: 1.6855 - val_accuracy: 0.5714\n",
      "Epoch 48/100\n",
      "1/1 [==============================] - 0s 186ms/step - loss: 0.0302 - accuracy: 1.0000 - val_loss: 1.7239 - val_accuracy: 0.5714\n",
      "Epoch 49/100\n",
      "1/1 [==============================] - 0s 194ms/step - loss: 0.0799 - accuracy: 0.9545 - val_loss: 1.8151 - val_accuracy: 0.5714\n",
      "Epoch 50/100\n",
      "1/1 [==============================] - 0s 161ms/step - loss: 0.1832 - accuracy: 0.9091 - val_loss: 1.9426 - val_accuracy: 0.4286\n",
      "Epoch 51/100\n",
      "1/1 [==============================] - 0s 149ms/step - loss: 0.0853 - accuracy: 0.9545 - val_loss: 2.0342 - val_accuracy: 0.4286\n",
      "Epoch 52/100\n",
      "1/1 [==============================] - 0s 170ms/step - loss: 0.0813 - accuracy: 0.9545 - val_loss: 2.1714 - val_accuracy: 0.4286\n",
      "Epoch 53/100\n",
      "1/1 [==============================] - 0s 174ms/step - loss: 0.1289 - accuracy: 0.9545 - val_loss: 2.1535 - val_accuracy: 0.4286\n",
      "Epoch 54/100\n",
      "1/1 [==============================] - 0s 209ms/step - loss: 0.0845 - accuracy: 0.9545 - val_loss: 2.0964 - val_accuracy: 0.4286\n",
      "Epoch 55/100\n",
      "1/1 [==============================] - 0s 206ms/step - loss: 0.1200 - accuracy: 0.9091 - val_loss: 2.0216 - val_accuracy: 0.5714\n",
      "Epoch 56/100\n",
      "1/1 [==============================] - 0s 180ms/step - loss: 0.0492 - accuracy: 1.0000 - val_loss: 2.0058 - val_accuracy: 0.5714\n",
      "Epoch 57/100\n",
      "1/1 [==============================] - 0s 172ms/step - loss: 0.0610 - accuracy: 1.0000 - val_loss: 2.0483 - val_accuracy: 0.5714\n",
      "Epoch 58/100\n",
      "1/1 [==============================] - 0s 183ms/step - loss: 0.0884 - accuracy: 0.9545 - val_loss: 2.2058 - val_accuracy: 0.4286\n",
      "Epoch 59/100\n",
      "1/1 [==============================] - 0s 195ms/step - loss: 0.0483 - accuracy: 1.0000 - val_loss: 2.4271 - val_accuracy: 0.4286\n",
      "Epoch 60/100\n",
      "1/1 [==============================] - 0s 208ms/step - loss: 0.0360 - accuracy: 1.0000 - val_loss: 2.6815 - val_accuracy: 0.4286\n",
      "Epoch 61/100\n",
      "1/1 [==============================] - 0s 184ms/step - loss: 0.0323 - accuracy: 1.0000 - val_loss: 2.8935 - val_accuracy: 0.4286\n",
      "Epoch 62/100\n",
      "1/1 [==============================] - 0s 156ms/step - loss: 0.1196 - accuracy: 0.9545 - val_loss: 2.8484 - val_accuracy: 0.4286\n",
      "Epoch 63/100\n",
      "1/1 [==============================] - 0s 163ms/step - loss: 0.0303 - accuracy: 1.0000 - val_loss: 2.8600 - val_accuracy: 0.4286\n",
      "Epoch 64/100\n",
      "1/1 [==============================] - 0s 176ms/step - loss: 0.0140 - accuracy: 1.0000 - val_loss: 2.8570 - val_accuracy: 0.4286\n",
      "Epoch 65/100\n",
      "1/1 [==============================] - 0s 164ms/step - loss: 0.0377 - accuracy: 1.0000 - val_loss: 2.8340 - val_accuracy: 0.4286\n",
      "Epoch 66/100\n",
      "1/1 [==============================] - 0s 183ms/step - loss: 0.0965 - accuracy: 0.9545 - val_loss: 2.8592 - val_accuracy: 0.4286\n",
      "Epoch 67/100\n",
      "1/1 [==============================] - 0s 168ms/step - loss: 0.1537 - accuracy: 0.9091 - val_loss: 2.9291 - val_accuracy: 0.4286\n",
      "Epoch 68/100\n",
      "1/1 [==============================] - 0s 158ms/step - loss: 0.1005 - accuracy: 0.9091 - val_loss: 2.8302 - val_accuracy: 0.4286\n",
      "Epoch 69/100\n",
      "1/1 [==============================] - 0s 165ms/step - loss: 0.0301 - accuracy: 1.0000 - val_loss: 2.7437 - val_accuracy: 0.4286\n",
      "Epoch 70/100\n",
      "1/1 [==============================] - 0s 163ms/step - loss: 0.0498 - accuracy: 0.9545 - val_loss: 2.6721 - val_accuracy: 0.5714\n",
      "Epoch 71/100\n",
      "1/1 [==============================] - 0s 159ms/step - loss: 0.0699 - accuracy: 0.9545 - val_loss: 2.6374 - val_accuracy: 0.5714\n",
      "Epoch 72/100\n",
      "1/1 [==============================] - 0s 168ms/step - loss: 0.1152 - accuracy: 0.9545 - val_loss: 2.5518 - val_accuracy: 0.5714\n",
      "Epoch 73/100\n",
      "1/1 [==============================] - 0s 146ms/step - loss: 0.1013 - accuracy: 0.9091 - val_loss: 2.4331 - val_accuracy: 0.5714\n",
      "Epoch 74/100\n",
      "1/1 [==============================] - 0s 149ms/step - loss: 0.1724 - accuracy: 0.9091 - val_loss: 2.4888 - val_accuracy: 0.5714\n",
      "Epoch 75/100\n",
      "1/1 [==============================] - 0s 177ms/step - loss: 0.0777 - accuracy: 0.9545 - val_loss: 2.5923 - val_accuracy: 0.4286\n",
      "Epoch 76/100\n",
      "1/1 [==============================] - 0s 158ms/step - loss: 0.2272 - accuracy: 0.9091 - val_loss: 2.7454 - val_accuracy: 0.4286\n",
      "Epoch 77/100\n",
      "1/1 [==============================] - 0s 161ms/step - loss: 0.0808 - accuracy: 0.9545 - val_loss: 2.7692 - val_accuracy: 0.4286\n",
      "Epoch 78/100\n",
      "1/1 [==============================] - 0s 159ms/step - loss: 0.0716 - accuracy: 0.9545 - val_loss: 2.6550 - val_accuracy: 0.4286\n",
      "Epoch 79/100\n",
      "1/1 [==============================] - 0s 161ms/step - loss: 0.0604 - accuracy: 0.9545 - val_loss: 2.4342 - val_accuracy: 0.4286\n",
      "Epoch 80/100\n",
      "1/1 [==============================] - 0s 142ms/step - loss: 0.0943 - accuracy: 0.9545 - val_loss: 2.2134 - val_accuracy: 0.4286\n",
      "Epoch 81/100\n",
      "1/1 [==============================] - 0s 154ms/step - loss: 0.0263 - accuracy: 1.0000 - val_loss: 2.0695 - val_accuracy: 0.4286\n",
      "Epoch 82/100\n",
      "1/1 [==============================] - 0s 160ms/step - loss: 0.0850 - accuracy: 0.9545 - val_loss: 2.1775 - val_accuracy: 0.4286\n",
      "Epoch 83/100\n",
      "1/1 [==============================] - 0s 167ms/step - loss: 0.0329 - accuracy: 1.0000 - val_loss: 2.3261 - val_accuracy: 0.4286\n",
      "Epoch 84/100\n",
      "1/1 [==============================] - 0s 154ms/step - loss: 0.1247 - accuracy: 0.9545 - val_loss: 2.5494 - val_accuracy: 0.4286\n",
      "Epoch 85/100\n",
      "1/1 [==============================] - 0s 152ms/step - loss: 0.0858 - accuracy: 0.9545 - val_loss: 2.7931 - val_accuracy: 0.4286\n",
      "Epoch 86/100\n",
      "1/1 [==============================] - 0s 150ms/step - loss: 0.0796 - accuracy: 0.9545 - val_loss: 2.9546 - val_accuracy: 0.4286\n",
      "Epoch 87/100\n",
      "1/1 [==============================] - 0s 165ms/step - loss: 0.0817 - accuracy: 0.9545 - val_loss: 3.0594 - val_accuracy: 0.4286\n",
      "Epoch 88/100\n",
      "1/1 [==============================] - 0s 160ms/step - loss: 0.1441 - accuracy: 0.9545 - val_loss: 2.9945 - val_accuracy: 0.4286\n",
      "Epoch 89/100\n",
      "1/1 [==============================] - 0s 195ms/step - loss: 0.0810 - accuracy: 0.9545 - val_loss: 2.8844 - val_accuracy: 0.4286\n",
      "Epoch 90/100\n",
      "1/1 [==============================] - 0s 155ms/step - loss: 0.0140 - accuracy: 1.0000 - val_loss: 2.7400 - val_accuracy: 0.4286\n",
      "Epoch 91/100\n",
      "1/1 [==============================] - 0s 162ms/step - loss: 0.0695 - accuracy: 0.9545 - val_loss: 2.5251 - val_accuracy: 0.4286\n",
      "Epoch 92/100\n",
      "1/1 [==============================] - 0s 171ms/step - loss: 0.0336 - accuracy: 1.0000 - val_loss: 2.4014 - val_accuracy: 0.5714\n",
      "Epoch 93/100\n",
      "1/1 [==============================] - 0s 167ms/step - loss: 0.1231 - accuracy: 0.9091 - val_loss: 2.3638 - val_accuracy: 0.5714\n",
      "Epoch 94/100\n",
      "1/1 [==============================] - 0s 163ms/step - loss: 0.0683 - accuracy: 0.9545 - val_loss: 2.4198 - val_accuracy: 0.5714\n",
      "Epoch 95/100\n",
      "1/1 [==============================] - 0s 175ms/step - loss: 0.0323 - accuracy: 1.0000 - val_loss: 2.5446 - val_accuracy: 0.4286\n",
      "Epoch 96/100\n",
      "1/1 [==============================] - 0s 158ms/step - loss: 0.0581 - accuracy: 0.9545 - val_loss: 2.7335 - val_accuracy: 0.4286\n",
      "Epoch 97/100\n",
      "1/1 [==============================] - 0s 159ms/step - loss: 0.0622 - accuracy: 0.9545 - val_loss: 2.8164 - val_accuracy: 0.4286\n",
      "Epoch 98/100\n",
      "1/1 [==============================] - 0s 163ms/step - loss: 0.0335 - accuracy: 1.0000 - val_loss: 2.8438 - val_accuracy: 0.4286\n",
      "Epoch 99/100\n",
      "1/1 [==============================] - 0s 161ms/step - loss: 0.0290 - accuracy: 1.0000 - val_loss: 2.8120 - val_accuracy: 0.4286\n",
      "Epoch 100/100\n",
      "1/1 [==============================] - 0s 165ms/step - loss: 0.0727 - accuracy: 0.9545 - val_loss: 2.7527 - val_accuracy: 0.4286\n"
     ]
    },
    {
     "data": {
      "text/plain": [
       "<keras.callbacks.History at 0x133af20a050>"
      ]
     },
     "execution_count": 28,
     "metadata": {},
     "output_type": "execute_result"
    }
   ],
   "source": [
    "history=classifier.fit_generator(training_set, steps_per_epoch=None, epochs=100, verbose=1, callbacks=None, validation_data=test_set, validation_steps=None, class_weight=None, max_queue_size=10, workers=1, use_multiprocessing=False, shuffle=True, initial_epoch=0)\n",
    "     "
   ]
  },
  {
   "cell_type": "code",
   "execution_count": 29,
   "metadata": {},
   "outputs": [
    {
     "data": {
      "text/plain": [
       "dict_keys(['loss', 'accuracy', 'val_loss', 'val_accuracy'])"
      ]
     },
     "execution_count": 29,
     "metadata": {},
     "output_type": "execute_result"
    }
   ],
   "source": [
    "history.history.keys()"
   ]
  },
  {
   "cell_type": "code",
   "execution_count": 30,
   "metadata": {},
   "outputs": [
    {
     "data": {
      "image/png": "[encoded data removed]",
      "text/plain": [
       "<Figure size 640x480 with 1 Axes>"
      ]
     },
     "metadata": {},
     "output_type": "display_data"
    }
   ],
   "source": [
    "import matplotlib.pyplot as plt\n",
    "plt.plot(history.history['accuracy'])\n",
    "plt.title('model accuracy')\n",
    "plt.ylabel('accuracy')\n",
    "plt.xlabel('epoch')\n",
    "plt.legend(['train'],loc='upper left')\n",
    "plt.show()"
   ]
  },
  {
   "cell_type": "code",
   "execution_count": null,
   "metadata": {},
   "outputs": [
    {
     "data": {
      "image/png": "[encoded data removed]",
      "text/plain": [
       "<PIL.Image.Image image mode=RGB size=64x64>"
      ]
     },
     "execution_count": 9,
     "metadata": {},
     "output_type": "execute_result"
    }
   ],
   "source": [
    "import numpy as np\n",
    "import keras.utils as image\n",
    "test_image = image.load_img(\"C:/PROJECT/code/TestImages/img1.jpg\", target_size = (64, 64))\n",
    "test_image"
   ]
  },
  {
   "cell_type": "code",
   "execution_count": null,
   "metadata": {},
   "outputs": [
    {
     "data": {
      "text/plain": [
       "array([[[[ 0.,  0.,  0.],\n",
       "         [18., 18., 18.],\n",
       "         [ 0.,  0.,  0.],\n",
       "         ...,\n",
       "         [ 0.,  0.,  0.],\n",
       "         [ 0.,  0.,  0.],\n",
       "         [ 0.,  0.,  0.]],\n",
       "\n",
       "        [[ 0.,  0.,  0.],\n",
       "         [ 0.,  0.,  0.],\n",
       "         [ 0.,  0.,  0.],\n",
       "         ...,\n",
       "         [ 0.,  0.,  0.],\n",
       "         [ 0.,  0.,  0.],\n",
       "         [ 0.,  0.,  0.]],\n",
       "\n",
       "        [[ 0.,  0.,  0.],\n",
       "         [ 0.,  0.,  0.],\n",
       "         [ 0.,  0.,  0.],\n",
       "         ...,\n",
       "         [ 0.,  0.,  0.],\n",
       "         [ 0.,  0.,  0.],\n",
       "         [ 0.,  0.,  0.]],\n",
       "\n",
       "        ...,\n",
       "\n",
       "        [[ 0.,  0.,  0.],\n",
       "         [ 0.,  0.,  0.],\n",
       "         [ 0.,  0.,  0.],\n",
       "         ...,\n",
       "         [ 0.,  0.,  0.],\n",
       "         [ 0.,  0.,  0.],\n",
       "         [ 0.,  0.,  0.]],\n",
       "\n",
       "        [[ 0.,  0.,  0.],\n",
       "         [ 0.,  0.,  0.],\n",
       "         [ 0.,  0.,  0.],\n",
       "         ...,\n",
       "         [ 0.,  0.,  0.],\n",
       "         [ 0.,  0.,  0.],\n",
       "         [ 0.,  0.,  0.]],\n",
       "\n",
       "        [[ 0.,  0.,  0.],\n",
       "         [ 0.,  0.,  0.],\n",
       "         [ 0.,  0.,  0.],\n",
       "         ...,\n",
       "         [ 0.,  0.,  0.],\n",
       "         [ 0.,  0.,  0.],\n",
       "         [ 0.,  0.,  0.]]]], dtype=float32)"
      ]
     },
     "execution_count": 10,
     "metadata": {},
     "output_type": "execute_result"
    }
   ],
   "source": [
    "test_image = image.img_to_array(test_image)\n",
    "\n",
    "test_image = np.expand_dims(test_image, axis = 0)\n",
    "test_image"
   ]
  },
  {
   "cell_type": "code",
   "execution_count": null,
   "metadata": {},
   "outputs": [
    {
     "name": "stdout",
     "output_type": "stream",
     "text": [
      "1/1 [==============================] - 0s 262ms/step\n"
     ]
    },
    {
     "data": {
      "text/plain": [
       "array([[0.]], dtype=float32)"
      ]
     },
     "execution_count": 11,
     "metadata": {},
     "output_type": "execute_result"
    }
   ],
   "source": [
    "result = classifier.predict(test_image)\n",
    "result"
   ]
  },
  {
   "cell_type": "code",
   "execution_count": null,
   "metadata": {},
   "outputs": [
    {
     "data": {
      "text/plain": [
       "{'Benign': 0, 'Malignant': 1}"
      ]
     },
     "execution_count": 12,
     "metadata": {},
     "output_type": "execute_result"
    }
   ],
   "source": [
    "training_set.class_indices"
   ]
  },
  {
   "cell_type": "code",
   "execution_count": null,
   "metadata": {},
   "outputs": [
    {
     "name": "stdout",
     "output_type": "stream",
     "text": [
      "Detected tumor type is Benign\n"
     ]
    }
   ],
   "source": [
    "if result[0][0] == 0:\n",
    "    prediction = 'Benign'\n",
    "else:\n",
    "    prediction = 'Malignent'\n",
    "print(\"Detected tumor type is %s\"%prediction)\n"
   ]
  }
 ],
 "metadata": {
  "kernelspec": {
   "display_name": "Python 3",
   "language": "python",
   "name": "python3"
  },
  "language_info": {
   "codemirror_mode": {
    "name": "ipython",
    "version": 3
   },
   "file_extension": ".py",
   "mimetype": "text/x-python",
   "name": "python",
   "nbconvert_exporter": "python",
   "pygments_lexer": "ipython3",
   "version": "3.10.9"
  }
 },
 "nbformat": 4,
 "nbformat_minor": 2
}
